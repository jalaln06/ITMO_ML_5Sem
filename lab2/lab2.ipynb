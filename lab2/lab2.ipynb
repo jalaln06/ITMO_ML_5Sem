{
  "nbformat": 4,
  "nbformat_minor": 0,
  "metadata": {
    "hide_input": false,
    "kernelspec": {
      "display_name": "Python 3",
      "language": "python",
      "name": "python3"
    },
    "language_info": {
      "codemirror_mode": {
        "name": "ipython",
        "version": 3
      },
      "file_extension": ".py",
      "mimetype": "text/x-python",
      "name": "python",
      "nbconvert_exporter": "python",
      "pygments_lexer": "ipython3",
      "version": "3.7.1"
    },
    "toc": {
      "base_numbering": 1,
      "nav_menu": {},
      "number_sections": true,
      "sideBar": true,
      "skip_h1_title": false,
      "title_cell": "Table of Contents",
      "title_sidebar": "Contents",
      "toc_cell": true,
      "toc_position": {},
      "toc_section_display": true,
      "toc_window_display": false
    },
    "varInspector": {
      "cols": {
        "lenName": 16,
        "lenType": 16,
        "lenVar": 40
      },
      "kernels_config": {
        "python": {
          "delete_cmd_postfix": "",
          "delete_cmd_prefix": "del ",
          "library": "var_list.py",
          "varRefreshCmd": "print(var_dic_list())"
        },
        "r": {
          "delete_cmd_postfix": ") ",
          "delete_cmd_prefix": "rm(",
          "library": "var_list.r",
          "varRefreshCmd": "cat(var_dic_list()) "
        }
      },
      "types_to_exclude": [
        "module",
        "function",
        "builtin_function_or_method",
        "instance",
        "_Feature"
      ],
      "window_display": false
    },
    "colab": {
      "name": "Copy of lab2.ipynb",
      "provenance": [],
      "collapsed_sections": [
        "04CYsBKz8JeB"
      ],
      "toc_visible": true
    }
  },
  "cells": [
    {
      "cell_type": "code",
      "metadata": {
        "ExecuteTime": {
          "end_time": "2020-04-23T10:16:05.965275Z",
          "start_time": "2020-04-23T10:16:05.312704Z"
        },
        "id": "bZ7J0si68JdT"
      },
      "source": [
        "import pandas as pd\n",
        "import numpy as np"
      ],
      "execution_count": null,
      "outputs": []
    },
    {
      "cell_type": "markdown",
      "metadata": {
        "id": "xjvL0IIG8Jd0"
      },
      "source": [
        "## Задание 0\n"
      ]
    },
    {
      "cell_type": "markdown",
      "metadata": {
        "id": "yaSxXHvxO0qo"
      },
      "source": [
        "Для всех  заданий будем использовать обезличенные транзакционные банковские данные. Для этого считайте в переменные **tr_mcc_codes, tr_types, transactions и gender_train** из одноимённых таблиц из папки [data](https://drive.google.com/drive/folders/1YAMe7MiTxA-RSSd8Ex2p-L0Dspe6Gs4L). \n",
        "\n",
        "Для таблицы transactions используйте только первые n=1000000 строк. При чтении файлов обратите внимание на разделители внутри каждого из файлов - они могут различаться!"
      ]
    },
    {
      "cell_type": "code",
      "metadata": {
        "id": "5AfBauN0tZoU"
      },
      "source": [
        "%%capture\n",
        "!wget https://www.dropbox.com/s/axkihywa8q118rk/transactions.csv\n",
        "!wget https://www.dropbox.com/s/xwbkjwik600clsh/tr_mcc_codes.csv\n",
        "!wget https://www.dropbox.com/s/5deipwkmeial1ba/tr_types.csv\n",
        "!wget https://www.dropbox.com/s/qc307hdkc9jdxf8/gender_train.csv\n",
        "\n",
        "transactions = pd.read_csv('transactions.csv', nrows = 1000000)\n",
        "tr_mcc_codes = pd.read_csv('tr_mcc_codes.csv', sep=';')\n",
        "gender_train = pd.read_csv('gender_train.csv')\n",
        "tr_types = pd.read_csv('tr_types.csv',sep=';')\n"
      ],
      "execution_count": null,
      "outputs": []
    },
    {
      "cell_type": "markdown",
      "metadata": {
        "id": "oP3lX9xC8Jd8"
      },
      "source": [
        "###  Описание данных\n",
        "#### Таблица ```transactions.csv```\n",
        "##### Описание\n",
        "Таблица содержит историю транзакций клиентов банка за один год и три месяца.\n",
        "\n",
        "##### Формат данных\n",
        "\n",
        "```\n",
        "customer_id,tr_datetime,mcc_code,tr_type,amount,term_id\n",
        "111111,15 01:40:52,1111,1000,-5224,111111\n",
        "111112,15 15:18:32,3333,2000,-100,11122233\n",
        "...\n",
        "```\n",
        "##### Описание полей\n",
        "\n",
        " - ```customer_id``` — идентификатор клиента;\n",
        " - ```tr_datetime``` — день и время совершения транзакции (дни нумеруются с начала данных);\n",
        " - ```mcc_code``` — mcc-код транзакции;\n",
        " - ```tr_type``` — тип транзакции;\n",
        " - ```amount``` — сумма транзакции в условных единицах со знаком; ```+``` — начисление средств клиенту (приходная транзакция), ```-``` — списание средств (расходная транзакция);\n",
        " - ```term_id``` — идентификатор терминала;\n",
        "\n",
        "\n",
        "#### Таблица ```gender_train.csv```\n",
        "\n",
        "##### Описание\n",
        "Данная таблица содержит информацию по полу для части клиентов, для которых он известен. Для остальных клиентов пол неизвестен.\n",
        "\n",
        "##### Формат данных\n",
        "```\n",
        "customer_id,gender\n",
        "111111,0\n",
        "111112,1\n",
        "...\n",
        "```\n",
        "\n",
        "##### Описание полей\n",
        " - ```customer_id``` — идентификатор клиента;\n",
        " - ```gender``` — пол клиента;\n",
        "\n",
        "### Таблица ```tr_mcc_codes.csv```\n",
        "\n",
        "##### Описание\n",
        "Данная таблица содержит описание mcc-кодов транзакций.\n",
        "\n",
        "##### Формат данных\n",
        "```\n",
        "mcc_code;mcc_description\n",
        "1000;словесное описание mcc-кода 1000\n",
        "2000;словесное описание mcc-кода 2000\n",
        "...\n",
        "```\n",
        "\n",
        "##### Описание полей\n",
        " - ```mcc_code``` – mcc-код транзакции;\n",
        " - ```mcc_description``` — описание mcc-кода транзакции.\n",
        "\n",
        "#### Таблица ```tr_types.csv```\n",
        "\n",
        "##### Описание\n",
        "Данная таблица содержит описание типов транзакций.\n",
        "\n",
        "##### Формат данных\n",
        "```\n",
        "tr_type;tr_description\n",
        "1000;словесное описание типа транзакции 1000\n",
        "2000;словесное описание типа транзакции 2000\n",
        "...\n",
        "```\n",
        "\n",
        "##### Описание полей\n",
        " - ```tr_type``` – тип транзакции;\n",
        " - ```tr_description``` — описание типа транзакции;"
      ]
    },
    {
      "cell_type": "markdown",
      "metadata": {
        "id": "04CYsBKz8JeB"
      },
      "source": [
        "\n",
        "Задания 1-4 делаются без использования merge!\n",
        "\n",
        "## Задание 1\n",
        "\n"
      ]
    },
    {
      "cell_type": "markdown",
      "metadata": {
        "id": "1hcrfwsYN_Yz"
      },
      "source": [
        "1. Для столбца tr_type датафрейма transactions выберите произвольные 1000 строк с помощью метода sample\n",
        "2. В полученной на предыдущем этапе подвыборке найдите долю транзакций (стобец tr_description в датасете tr_types), в которой содержится подстрока 'POS' или 'ATM'\n"
      ]
    },
    {
      "cell_type": "code",
      "metadata": {
        "colab": {
          "base_uri": "https://localhost:8080/"
        },
        "id": "CXhTfC50vt1F",
        "outputId": "da715b19-1a5d-496f-f682-0af654be1ca9"
      },
      "source": [
        "\n",
        "tr_type_pos_atm = (tr_types['tr_type'][( tr_types['tr_description'].str.contains(\"АТМ\")) | ( tr_types['tr_description'].str.contains(\"POS\"))])\n",
        "count = transactions['tr_type'].sample(1000).isin(tr_type_pos_atm).value_counts()[True]\n",
        "print(count/1000)\n"
      ],
      "execution_count": null,
      "outputs": [
        {
          "output_type": "stream",
          "name": "stdout",
          "text": [
            "0.637\n"
          ]
        }
      ]
    },
    {
      "cell_type": "code",
      "metadata": {
        "id": "gLPtq_ZEviup"
      },
      "source": [
        ""
      ],
      "execution_count": null,
      "outputs": []
    },
    {
      "cell_type": "markdown",
      "metadata": {
        "id": "fiZBDIZt8JeS"
      },
      "source": [
        "## Задание 2 \n"
      ]
    },
    {
      "cell_type": "markdown",
      "metadata": {
        "id": "FFKeBUThOCrz"
      },
      "source": [
        "1. Для столбца tr_type датафрейма transactions посчитайте частоту встречаемости всех типов транзакций tr_type в transactions.\n",
        "2. Выведите топ-10 транзакций по частоте встречаемости (вывести для них tr_description тоже)."
      ]
    },
    {
      "cell_type": "code",
      "metadata": {
        "colab": {
          "base_uri": "https://localhost:8080/",
          "height": 571
        },
        "id": "Jjce8Ir1zzHC",
        "outputId": "4c152371-b100-4e6c-8a06-bfcb942420ce"
      },
      "source": [
        "print(transactions['tr_type'].value_counts())\n",
        "top_ten = transactions['tr_type'].value_counts().sort_values(ascending=False).head(10)\n",
        "answer = tr_types[tr_types['tr_type'].isin(top_ten.index)]\n",
        "display(answer)"
      ],
      "execution_count": null,
      "outputs": [
        {
          "output_type": "display_data",
          "data": {
            "text/plain": [
              "1010    231117\n",
              "2010    151166\n",
              "7070    149006\n",
              "1110    137658\n",
              "1030    118975\n",
              "         ...  \n",
              "4061         4\n",
              "4096         4\n",
              "8146         3\n",
              "8100         2\n",
              "1510         2\n",
              "Name: tr_type, Length: 72, dtype: int64"
            ]
          },
          "metadata": {}
        },
        {
          "output_type": "display_data",
          "data": {
            "text/html": [
              "<div>\n",
              "<style scoped>\n",
              "    .dataframe tbody tr th:only-of-type {\n",
              "        vertical-align: middle;\n",
              "    }\n",
              "\n",
              "    .dataframe tbody tr th {\n",
              "        vertical-align: top;\n",
              "    }\n",
              "\n",
              "    .dataframe thead th {\n",
              "        text-align: right;\n",
              "    }\n",
              "</style>\n",
              "<table border=\"1\" class=\"dataframe\">\n",
              "  <thead>\n",
              "    <tr style=\"text-align: right;\">\n",
              "      <th></th>\n",
              "      <th>tr_type</th>\n",
              "      <th>tr_description</th>\n",
              "    </tr>\n",
              "  </thead>\n",
              "  <tbody>\n",
              "    <tr>\n",
              "      <th>39</th>\n",
              "      <td>7010</td>\n",
              "      <td>Взнос наличных через АТМ (в своем тер.банке)</td>\n",
              "    </tr>\n",
              "    <tr>\n",
              "      <th>47</th>\n",
              "      <td>7030</td>\n",
              "      <td>Перевод на карту (с карты) через АТМ (в предел...</td>\n",
              "    </tr>\n",
              "    <tr>\n",
              "      <th>59</th>\n",
              "      <td>7070</td>\n",
              "      <td>Перевод на карту (с карты) через Мобильный бан...</td>\n",
              "    </tr>\n",
              "    <tr>\n",
              "      <th>60</th>\n",
              "      <td>7071</td>\n",
              "      <td>Перевод на карту (с карты) через Мобильный бан...</td>\n",
              "    </tr>\n",
              "    <tr>\n",
              "      <th>98</th>\n",
              "      <td>1010</td>\n",
              "      <td>Покупка. POS ТУ СБ РФ</td>\n",
              "    </tr>\n",
              "    <tr>\n",
              "      <th>99</th>\n",
              "      <td>1030</td>\n",
              "      <td>Оплата услуги. Банкоматы СБ РФ</td>\n",
              "    </tr>\n",
              "    <tr>\n",
              "      <th>100</th>\n",
              "      <td>1100</td>\n",
              "      <td>Покупка. ТУ  Россия</td>\n",
              "    </tr>\n",
              "    <tr>\n",
              "      <th>101</th>\n",
              "      <td>1110</td>\n",
              "      <td>Покупка. POS ТУ Россия</td>\n",
              "    </tr>\n",
              "    <tr>\n",
              "      <th>106</th>\n",
              "      <td>2010</td>\n",
              "      <td>Выдача наличных в АТМ Сбербанк России</td>\n",
              "    </tr>\n",
              "    <tr>\n",
              "      <th>129</th>\n",
              "      <td>2370</td>\n",
              "      <td>Списание с карты на карту по операции &lt;перевод...</td>\n",
              "    </tr>\n",
              "  </tbody>\n",
              "</table>\n",
              "</div>"
            ],
            "text/plain": [
              "     tr_type                                     tr_description\n",
              "39      7010       Взнос наличных через АТМ (в своем тер.банке)\n",
              "47      7030  Перевод на карту (с карты) через АТМ (в предел...\n",
              "59      7070  Перевод на карту (с карты) через Мобильный бан...\n",
              "60      7071  Перевод на карту (с карты) через Мобильный бан...\n",
              "98      1010                              Покупка. POS ТУ СБ РФ\n",
              "99      1030                     Оплата услуги. Банкоматы СБ РФ\n",
              "100     1100                                Покупка. ТУ  Россия\n",
              "101     1110                             Покупка. POS ТУ Россия\n",
              "106     2010              Выдача наличных в АТМ Сбербанк России\n",
              "129     2370  Списание с карты на карту по операции <перевод..."
            ]
          },
          "metadata": {}
        }
      ]
    },
    {
      "cell_type": "markdown",
      "metadata": {
        "id": "mktm_JeA8JeX"
      },
      "source": [
        "## Задание 3\n",
        "1. В датафрейме transactions найдите клиента с максимальной суммой приходов на карту\n",
        "2. В датафрейме transactions найдите клиента с максимальной суммой расходов по карте\n",
        "3. Найдите модуль разницы для этих клиентов между суммой расходов и суммой приходов"
      ]
    },
    {
      "cell_type": "code",
      "metadata": {
        "colab": {
          "base_uri": "https://localhost:8080/"
        },
        "id": "wKZdMu8h10PG",
        "outputId": "15b15f31-f289-4f3a-9b16-28f54e71e984"
      },
      "source": [
        "max_earning = transactions[transactions['amount']>0].groupby(['customer_id']).sum().nlargest(1,'amount')\n",
        "min_earning = transactions[transactions['amount']<=0].groupby(['customer_id']).sum().nsmallest(1,'amount')\n",
        "print(max_earning['amount'].to_string())\n",
        "print(min_earning['amount'].to_string())\n",
        "print((max_earning['amount']+min_earning['amount']).abs().to_string())\n",
        "max_earning_customer = max_earning.index.tolist()\n",
        "min_earning_customer = min_earning.index.tolist()\n"
      ],
      "execution_count": null,
      "outputs": [
        {
          "output_type": "stream",
          "name": "stdout",
          "text": [
            "customer_id\n",
            "70780820    1.248115e+09\n",
            "customer_id\n",
            "70780820   -1.249952e+09\n",
            "customer_id\n",
            "70780820    1.837318e+06\n"
          ]
        }
      ]
    },
    {
      "cell_type": "markdown",
      "metadata": {
        "id": "BYrJ5b_E8Jee"
      },
      "source": [
        "## Задание 4\n",
        "1. Найдите среднее арифметическое и медиану по amount по всем типам транзакций из топ 10 из задания 2\n",
        "1. Найдите среднее арифметическое и медиану по amount по всем типам транзакций для клиентов из задания 3"
      ]
    },
    {
      "cell_type": "code",
      "metadata": {
        "colab": {
          "base_uri": "https://localhost:8080/"
        },
        "id": "5hLwLQWW6o_Q",
        "outputId": "c9e1da53-7201-4cf5-90ab-92ba7b561b45"
      },
      "source": [
        "top_ten = transactions['tr_type'].value_counts().sort_values(ascending=False).head(10)\n",
        "tr_types = top_ten.index\n",
        "ten_transactions =transactions[transactions['tr_type'].isin(tr_types)]\n",
        "mean = ten_transactions.groupby(['tr_type'])['amount'].mean()\n",
        "median = ten_transactions.groupby(['tr_type'])['amount'].median()\n",
        "mean_median = pd.concat([mean,median],axis = 1, keys=['Mean', 'Median'])\n",
        "print(mean_median)"
      ],
      "execution_count": null,
      "outputs": [
        {
          "output_type": "stream",
          "name": "stdout",
          "text": [
            "                  Mean     Median\n",
            "tr_type                          \n",
            "1010     -19784.748640   -7411.52\n",
            "1030      -5320.980222   -2245.92\n",
            "1100     -44061.827262  -10188.26\n",
            "1110     -32119.330371  -11207.57\n",
            "2010    -136077.629325  -44918.32\n",
            "2370    -205418.249032  -44918.32\n",
            "7010     276391.789596  112295.79\n",
            "7030      86104.332909   13951.52\n",
            "7070      65569.831700   11319.42\n",
            "7071      66806.826623    3593.47\n"
          ]
        }
      ]
    },
    {
      "cell_type": "code",
      "metadata": {
        "id": "xuv0mHZT-ij6",
        "colab": {
          "base_uri": "https://localhost:8080/"
        },
        "outputId": "613cbb7d-dd8d-44a1-e69d-9e50b5129fb0"
      },
      "source": [
        "max_client_transactions = transactions[transactions['customer_id'].isin(max_earning_customer)]\n",
        "mean = max_client_transactions.groupby(['tr_type'])['amount'].mean()\n",
        "median = max_client_transactions.groupby(['tr_type'])['amount'].median()\n",
        "mean_median = pd.concat([mean,median],axis = 1, keys=['Mean', 'Median'])\n",
        "print(mean_median)\n",
        "min_client_transactions = transactions[transactions['customer_id'].isin(min_earning_customer)]\n",
        "mean = min_client_transactions.groupby(['tr_type'])['amount'].mean()\n",
        "median = min_client_transactions.groupby(['tr_type'])['amount'].median()\n",
        "mean_median = pd.concat([mean,median],axis = 1, keys=['Mean', 'Median'])\n",
        "print(mean_median)"
      ],
      "execution_count": null,
      "outputs": [
        {
          "output_type": "stream",
          "name": "stdout",
          "text": [
            "                 Mean       Median\n",
            "tr_type                           \n",
            "2010    -2.941056e+06 -3368873.660\n",
            "2330    -2.382398e+06 -2245915.770\n",
            "2370    -2.218505e+06 -2245915.770\n",
            "6110     1.756293e+04    10028.010\n",
            "7020     1.465129e+04    10319.985\n",
            "7021     2.850067e+04    28500.670\n",
            "7030     1.406196e+04     8848.910\n",
            "7031     1.921036e+04    12992.620\n",
            "7034     1.430648e+04    14306.480\n",
            "7040     2.153833e+04    14396.320\n",
            "7070     1.384821e+04     8714.150\n",
            "7071     1.860057e+04    12543.440\n",
            "7074     2.281159e+04     9387.930\n",
            "                 Mean       Median\n",
            "tr_type                           \n",
            "2010    -2.941056e+06 -3368873.660\n",
            "2330    -2.382398e+06 -2245915.770\n",
            "2370    -2.218505e+06 -2245915.770\n",
            "6110     1.756293e+04    10028.010\n",
            "7020     1.465129e+04    10319.985\n",
            "7021     2.850067e+04    28500.670\n",
            "7030     1.406196e+04     8848.910\n",
            "7031     1.921036e+04    12992.620\n",
            "7034     1.430648e+04    14306.480\n",
            "7040     2.153833e+04    14396.320\n",
            "7070     1.384821e+04     8714.150\n",
            "7071     1.860057e+04    12543.440\n",
            "7074     2.281159e+04     9387.930\n"
          ]
        }
      ]
    },
    {
      "cell_type": "markdown",
      "metadata": {
        "id": "BYXwM4l3QDBu"
      },
      "source": [
        "## Подготовка для заданий 5-8"
      ]
    },
    {
      "cell_type": "markdown",
      "metadata": {
        "id": "XWQzFeKcQHRe"
      },
      "source": [
        "*Из заданий 5-8 нужно выполнить минимум два любых*\n",
        "\n",
        "Соедините transactions с всеми остальными таблицами (tr_mcc_codes, tr_types, gender_train). Причём с gender_train необходимо смёрджиться с помощью left join, а с оставшимися датафреймами - через inner.\n",
        "После получения результата таблицы gender_train, tr_types, tr_mcc_codes можно удалить. В результате соединения датафреймов должно получиться 999584 строки."
      ]
    },
    {
      "cell_type": "code",
      "metadata": {
        "id": "sndJxjJ7QQf5",
        "colab": {
          "base_uri": "https://localhost:8080/"
        },
        "outputId": "b439b171-9d33-499d-d655-5074a028b9fb"
      },
      "source": [
        "transactions = pd.merge(transactions, gender_train, how='left')\n",
        "transactions = pd.merge(transactions, tr_mcc_codes, how='inner')\n",
        "transactions = pd.merge(transactions, tr_types, how='inner')\n",
        "transactions.shape"
      ],
      "execution_count": null,
      "outputs": [
        {
          "output_type": "execute_result",
          "data": {
            "text/plain": [
              "(999584, 9)"
            ]
          },
          "metadata": {},
          "execution_count": 4
        }
      ]
    },
    {
      "cell_type": "markdown",
      "metadata": {
        "id": "8vrFauJ8QgmT"
      },
      "source": [
        "## Задание 5"
      ]
    },
    {
      "cell_type": "markdown",
      "metadata": {
        "id": "rOjEQ5xyQfE_"
      },
      "source": [
        "1. Определите модуль разницы между средними тратами женщин и мужчин (трата - отрицательное значение amount).\n",
        "2. Определите модуль разницы между средними поступлениями у мужчин и женщин\n",
        "\n",
        "Обратите внимание, что для вычисления модуля разности точных знаний о том, \n",
        "какой класc относится к мужчинам, а какой - к женщинам, не требуется."
      ]
    },
    {
      "cell_type": "code",
      "metadata": {
        "colab": {
          "base_uri": "https://localhost:8080/",
          "height": 50
        },
        "id": "8xsEsqSlMZdd",
        "outputId": "44ed2236-db10-4479-abbf-506fa7e4b55b"
      },
      "source": [
        "negative_transactions = transactions[transactions['amount']<0].groupby('gender')['amount'].mean()\n",
        "display(abs(negative_transactions[0]-negative_transactions[1]))\n",
        "positive_transactions = transactions[transactions['amount']>0].groupby('gender')['amount'].mean()\n",
        "display(abs(positive_transactions[0]-positive_transactions[1]))"
      ],
      "execution_count": null,
      "outputs": [
        {
          "output_type": "display_data",
          "data": {
            "text/plain": [
              "32718.05492021877"
            ]
          },
          "metadata": {}
        },
        {
          "output_type": "display_data",
          "data": {
            "text/plain": [
              "63366.57104801515"
            ]
          },
          "metadata": {}
        }
      ]
    },
    {
      "cell_type": "markdown",
      "metadata": {
        "id": "DSHFLbepQ7G1"
      },
      "source": [
        "## Задание 6"
      ]
    },
    {
      "cell_type": "markdown",
      "metadata": {
        "id": "2EF1490bQ-17"
      },
      "source": [
        "1. По всем типам транзакций рассчитайте максимальную сумму прихода на карту (из строго положительных сумм по столбцу amount) отдельно для мужчин и женщин (назовите ее \"max_income\"). Оставьте по 10 типов транзакций для мужчин и для женщин, наименьших среди всех типов транзакций по полученным значениям \"max_income\". \n",
        "2. Выделите среди них те типы транзакций, которые встречаются одновременно и у мужчин, и у женщин"
      ]
    },
    {
      "cell_type": "code",
      "metadata": {
        "colab": {
          "base_uri": "https://localhost:8080/"
        },
        "id": "uzfge5m0Sp9j",
        "outputId": "1e2fc758-8708-4ea4-c61d-937904ce3c40"
      },
      "source": [
        "tr_types_min = transactions[(transactions['amount']>0) & (transactions['gender'] == 0)].groupby('tr_type')['amount'].max()\n",
        "antitop_ten_0 = tr_types_min.sort_values(ascending=True).head(10)\n",
        "print(antitop_ten_0)\n",
        "tr_types_min_1 = transactions[(transactions['amount']>0) & (transactions['gender'] == 1)].groupby('tr_type')['amount'].max()\n",
        "antitop_ten_1 = tr_types_min_1.sort_values(ascending=True).head(10)\n",
        "print(antitop_ten_1)"
      ],
      "execution_count": null,
      "outputs": [
        {
          "output_type": "stream",
          "name": "stdout",
          "text": [
            "tr_type\n",
            "4051     1122.96\n",
            "4110     2245.92\n",
            "4210     2245.92\n",
            "2370     2335.75\n",
            "4100     5041.86\n",
            "7075     6737.75\n",
            "2110    22459.16\n",
            "1010    24839.83\n",
            "2010    44918.32\n",
            "2210    68315.82\n",
            "Name: amount, dtype: float64\n",
            "tr_type\n",
            "4110      2245.92\n",
            "2020      2245.92\n",
            "1010     28803.87\n",
            "8100     64682.37\n",
            "6000     79280.83\n",
            "7041     87590.72\n",
            "2010     89836.63\n",
            "2110    112295.79\n",
            "2370    113194.15\n",
            "7015    121279.45\n",
            "Name: amount, dtype: float64\n"
          ]
        }
      ]
    },
    {
      "cell_type": "code",
      "metadata": {
        "colab": {
          "base_uri": "https://localhost:8080/"
        },
        "id": "cL8PezjQigBM",
        "outputId": "6bc88638-bc5f-4029-a3be-9f82356d9580"
      },
      "source": [
        "print(pd.concat([antitop_ten_0,antitop_ten_1], axis=1).dropna())"
      ],
      "execution_count": null,
      "outputs": [
        {
          "output_type": "stream",
          "name": "stdout",
          "text": [
            "           amount     amount\n",
            "tr_type                     \n",
            "1010     24839.83   28803.87\n",
            "2010     44918.32   89836.63\n",
            "2110     22459.16  112295.79\n",
            "2370      2335.75  113194.15\n",
            "4110      2245.92    2245.92\n"
          ]
        }
      ]
    },
    {
      "cell_type": "markdown",
      "metadata": {
        "id": "2xO0rOqIW-v8"
      },
      "source": [
        ""
      ]
    },
    {
      "cell_type": "markdown",
      "metadata": {
        "id": "W-LaVwRdR3UB"
      },
      "source": [
        "## Задание 7"
      ]
    },
    {
      "cell_type": "markdown",
      "metadata": {
        "id": "rhI4NOciR7e0"
      },
      "source": [
        "1. Найдите суммы затрат по каждой категории (mcc) для мужчин и для женщин. \n",
        "2. Найдите топ 10 категорий с самыми большими относительными модулями разности в тратах для разных полов (в ответе должны присутствовать описания mcc кодов)."
      ]
    },
    {
      "cell_type": "code",
      "metadata": {
        "colab": {
          "base_uri": "https://localhost:8080/",
          "height": 468
        },
        "id": "_PGTdF7asjCA",
        "outputId": "9d44ad86-e8ee-4d18-c74f-765307f85797"
      },
      "source": [
        "category_spendings_0 = transactions[(transactions['amount']<0) & (transactions['gender'] == 0)].groupby('mcc_code')['amount'].sum()\n",
        "display(category_spendings_0)\n",
        "category_spendings_1 = transactions[(transactions['amount']<0) & (transactions['gender'] == 1)].groupby('mcc_code')['amount'].sum()\n",
        "display(category_spendings_1)"
      ],
      "execution_count": null,
      "outputs": [
        {
          "output_type": "display_data",
          "data": {
            "text/plain": [
              "mcc_code\n",
              "742      -386207.68\n",
              "1711     -674897.69\n",
              "1799     -261626.73\n",
              "2741      -20746.42\n",
              "3000   -74431645.27\n",
              "           ...     \n",
              "8699     -521107.48\n",
              "8999   -19432057.92\n",
              "9222     -361143.24\n",
              "9311     -406197.45\n",
              "9399    -1481389.65\n",
              "Name: amount, Length: 174, dtype: float64"
            ]
          },
          "metadata": {}
        },
        {
          "output_type": "display_data",
          "data": {
            "text/plain": [
              "mcc_code\n",
              "742      -132277.93\n",
              "1711     -206264.90\n",
              "1731     -121542.67\n",
              "1799    -1129257.68\n",
              "2741     -221290.08\n",
              "           ...     \n",
              "8999   -28643346.63\n",
              "9222     -988205.17\n",
              "9311     -373271.22\n",
              "9399    -1810820.67\n",
              "9402       -4581.67\n",
              "Name: amount, Length: 175, dtype: float64"
            ]
          },
          "metadata": {}
        }
      ]
    },
    {
      "cell_type": "code",
      "metadata": {
        "colab": {
          "base_uri": "https://localhost:8080/",
          "height": 363
        },
        "id": "laFEioVctx4-",
        "outputId": "77b35d76-c4b6-4087-e921-a91c2689566b"
      },
      "source": [
        "mcc_descripto = abs((category_spendings_1-category_spendings_0)).sort_values(ascending=False).head(10)\n",
        "tr_mcc_codes[tr_mcc_codes[\"mcc_code\"].isin(mcc_descripto.index)]"
      ],
      "execution_count": null,
      "outputs": [
        {
          "output_type": "execute_result",
          "data": {
            "text/html": [
              "<div>\n",
              "<style scoped>\n",
              "    .dataframe tbody tr th:only-of-type {\n",
              "        vertical-align: middle;\n",
              "    }\n",
              "\n",
              "    .dataframe tbody tr th {\n",
              "        vertical-align: top;\n",
              "    }\n",
              "\n",
              "    .dataframe thead th {\n",
              "        text-align: right;\n",
              "    }\n",
              "</style>\n",
              "<table border=\"1\" class=\"dataframe\">\n",
              "  <thead>\n",
              "    <tr style=\"text-align: right;\">\n",
              "      <th></th>\n",
              "      <th>mcc_code</th>\n",
              "      <th>mcc_description</th>\n",
              "    </tr>\n",
              "  </thead>\n",
              "  <tbody>\n",
              "    <tr>\n",
              "      <th>22</th>\n",
              "      <td>4829</td>\n",
              "      <td>Денежные переводы</td>\n",
              "    </tr>\n",
              "    <tr>\n",
              "      <th>62</th>\n",
              "      <td>5511</td>\n",
              "      <td>Легковой и грузовой транспорт — продажа, серви...</td>\n",
              "    </tr>\n",
              "    <tr>\n",
              "      <th>64</th>\n",
              "      <td>5533</td>\n",
              "      <td>Автозапчасти и аксессуары</td>\n",
              "    </tr>\n",
              "    <tr>\n",
              "      <th>65</th>\n",
              "      <td>5541</td>\n",
              "      <td>Станции техобслуживания</td>\n",
              "    </tr>\n",
              "    <tr>\n",
              "      <th>75</th>\n",
              "      <td>5661</td>\n",
              "      <td>Обувные магазины</td>\n",
              "    </tr>\n",
              "    <tr>\n",
              "      <th>90</th>\n",
              "      <td>5812</td>\n",
              "      <td>Места общественного питания, рестораны</td>\n",
              "    </tr>\n",
              "    <tr>\n",
              "      <th>116</th>\n",
              "      <td>5977</td>\n",
              "      <td>Магазины косметики</td>\n",
              "    </tr>\n",
              "    <tr>\n",
              "      <th>123</th>\n",
              "      <td>6010</td>\n",
              "      <td>Финансовые институты — снятие наличности вручную</td>\n",
              "    </tr>\n",
              "    <tr>\n",
              "      <th>124</th>\n",
              "      <td>6011</td>\n",
              "      <td>Финансовые институты — снятие наличности автом...</td>\n",
              "    </tr>\n",
              "    <tr>\n",
              "      <th>162</th>\n",
              "      <td>7995</td>\n",
              "      <td>Транзакции по азартным играм</td>\n",
              "    </tr>\n",
              "  </tbody>\n",
              "</table>\n",
              "</div>"
            ],
            "text/plain": [
              "     mcc_code                                    mcc_description\n",
              "22       4829                                  Денежные переводы\n",
              "62       5511  Легковой и грузовой транспорт — продажа, серви...\n",
              "64       5533                          Автозапчасти и аксессуары\n",
              "65       5541                            Станции техобслуживания\n",
              "75       5661                                   Обувные магазины\n",
              "90       5812             Места общественного питания, рестораны\n",
              "116      5977                                 Магазины косметики\n",
              "123      6010   Финансовые институты — снятие наличности вручную\n",
              "124      6011  Финансовые институты — снятие наличности автом...\n",
              "162      7995                       Транзакции по азартным играм"
            ]
          },
          "metadata": {},
          "execution_count": 18
        }
      ]
    },
    {
      "cell_type": "markdown",
      "metadata": {
        "id": "aGaPkQkVSvl8"
      },
      "source": [
        "## Задание 8"
      ]
    },
    {
      "cell_type": "markdown",
      "metadata": {
        "id": "T7Ox1qAXTHQl"
      },
      "source": [
        "1. Из поля tr_datetime выделите час tr_hour, в который произошла транзакция, как первые 2 цифры до \":\". (\\**)\n",
        "2. Посчитайте количество транзакций с amount<0 в ночное время для мужчин и женщин. Ночное время - это примерно 00-06 часов. "
      ]
    },
    {
      "cell_type": "code",
      "metadata": {
        "colab": {
          "base_uri": "https://localhost:8080/",
          "height": 218
        },
        "id": "dfrPw0S0h2hg",
        "outputId": "2204c4d3-9c98-4af3-9769-63370626273e"
      },
      "source": [
        "transactions[[\"tr_day\", \"tr_time\"]] = transactions[\"tr_datetime\"].str.split(\" \", expand=True)\n",
        "transactions[[\"tr_hour\", \"tr_minute\", \"tr_second\"]] = transactions[\"tr_time\"].str.split(\":\", expand=True)\n",
        "display(transactions[\"tr_day\"])\n"
      ],
      "execution_count": null,
      "outputs": [
        {
          "output_type": "display_data",
          "data": {
            "text/plain": [
              "0           0\n",
              "1           6\n",
              "2           8\n",
              "3          11\n",
              "4          11\n",
              "         ... \n",
              "999579     18\n",
              "999580    206\n",
              "999581     90\n",
              "999582    104\n",
              "999583    105\n",
              "Name: tr_day, Length: 999584, dtype: object"
            ]
          },
          "metadata": {}
        }
      ]
    },
    {
      "cell_type": "code",
      "metadata": {
        "colab": {
          "base_uri": "https://localhost:8080/"
        },
        "id": "LsqY3KIwk-KS",
        "outputId": "147c53dc-88a8-48db-f908-bc1fdb33d317"
      },
      "source": [
        "spendings = transactions[(transactions['amount']<0)]\n",
        "spendings = spendings[(transactions['tr_hour'].astype(int)<6)]\n",
        "spendings_gender1 = len(spendings[(transactions[\"gender\"]==1)])\n",
        "spendings_gender0 = len(spendings[(transactions[\"gender\"]==0)])\n",
        "print(\"gender1\")\n",
        "print(spendings_gender1)\n",
        "print(\"gender0\")\n",
        "print(spendings_gender0)"
      ],
      "execution_count": null,
      "outputs": [
        {
          "output_type": "stream",
          "name": "stdout",
          "text": [
            "gender1\n",
            "43017\n",
            "gender0\n",
            "38827\n"
          ]
        },
        {
          "output_type": "stream",
          "name": "stderr",
          "text": [
            "/usr/local/lib/python3.7/dist-packages/ipykernel_launcher.py:2: UserWarning: Boolean Series key will be reindexed to match DataFrame index.\n",
            "  \n",
            "/usr/local/lib/python3.7/dist-packages/ipykernel_launcher.py:3: UserWarning: Boolean Series key will be reindexed to match DataFrame index.\n",
            "  This is separate from the ipykernel package so we can avoid doing imports until\n",
            "/usr/local/lib/python3.7/dist-packages/ipykernel_launcher.py:4: UserWarning: Boolean Series key will be reindexed to match DataFrame index.\n",
            "  after removing the cwd from sys.path.\n"
          ]
        }
      ]
    },
    {
      "cell_type": "markdown",
      "metadata": {
        "id": "qP3YAx04XyN8"
      },
      "source": [
        "Доп\n",
        "По каждой категории найдите сумму трат в ночное время и в остальное время. Найдите соотношение одного к другому. Выведите список 10 категорий с описаниями, упорядоченных по убываний отношения ночных трат к остальным тратам.  "
      ]
    },
    {
      "cell_type": "code",
      "metadata": {
        "colab": {
          "base_uri": "https://localhost:8080/",
          "height": 1000
        },
        "id": "_F2eyc0WXzt7",
        "outputId": "9574ecef-688c-4004-e960-85a9b5208d14"
      },
      "source": [
        "spendings = transactions[(transactions['amount']<0)]\n",
        "night_spendings = spendings[(transactions['tr_hour'].astype(int)<6)]\n",
        "night_spendings_sum = night_spendings.groupby('tr_type')['amount'].sum()\n",
        "day_spendings = spendings[(transactions['tr_hour'].astype(int)>=6)]\n",
        "day_spendings_sum = day_spendings.groupby('tr_type')['amount'].sum()\n",
        "pd.options.display.float_format='{:.5f}'.format\n",
        "display(night_spendings_sum)\n",
        "display(day_spendings_sum)\n",
        "display((night_spendings_sum/day_spendings_sum).dropna())\n",
        "ans = (night_spendings_sum/day_spendings_sum).nlargest(10)\n",
        "display(ans)\n",
        "answer = tr_types[tr_types['tr_type'].isin(ans.index)]\n",
        "display(answer.merge(ans,left_on='tr_type', right_on='tr_type').sort_values(by='amount',ascending=False))"
      ],
      "execution_count": null,
      "outputs": [
        {
          "output_type": "stream",
          "name": "stderr",
          "text": [
            "/usr/local/lib/python3.7/dist-packages/ipykernel_launcher.py:2: UserWarning: Boolean Series key will be reindexed to match DataFrame index.\n",
            "  \n",
            "/usr/local/lib/python3.7/dist-packages/ipykernel_launcher.py:4: UserWarning: Boolean Series key will be reindexed to match DataFrame index.\n",
            "  after removing the cwd from sys.path.\n"
          ]
        },
        {
          "output_type": "display_data",
          "data": {
            "text/plain": [
              "tr_type\n",
              "1010    -143078520.21000\n",
              "1030     -52853418.99000\n",
              "1100    -550511677.98000\n",
              "1110   -3023498923.89989\n",
              "1200    -355096730.95001\n",
              "1210    -411345688.52000\n",
              "1410      -3548820.27000\n",
              "1510        -22396.05000\n",
              "2010   -1141154547.06002\n",
              "2011     -31447498.45000\n",
              "2020     -52289299.85000\n",
              "2100      -6510665.22000\n",
              "2110     -78531754.29000\n",
              "2200      -4101425.34000\n",
              "2210     -87594549.64000\n",
              "2320       -830073.17000\n",
              "2330    -125025204.06000\n",
              "2331     -29380733.26000\n",
              "2370    -628724707.60001\n",
              "2371     -89568297.50000\n",
              "2440      -1554773.61000\n",
              "4010      -1402742.54000\n",
              "4011        -72900.99000\n",
              "4020        -16445.27000\n",
              "4041         -3368.88000\n",
              "4051       -282577.75000\n",
              "4071       -738468.95000\n",
              "4090         -8422.18000\n",
              "4100       -121320.74000\n",
              "4110      -2381804.99000\n",
              "4200        -43748.19000\n",
              "4210      -1040809.42000\n",
              "4500        -52779.03000\n",
              "7020      -1181576.29000\n",
              "7030       -120830.26000\n",
              "7070       -593011.62000\n",
              "Name: amount, dtype: float64"
            ]
          },
          "metadata": {}
        },
        {
          "output_type": "display_data",
          "data": {
            "text/plain": [
              "tr_type\n",
              "1000        -689054.37000\n",
              "1010    -4429580080.82966\n",
              "1030     -580210202.89997\n",
              "1100     -136912675.92000\n",
              "1110    -1409415843.38001\n",
              "1200      -17222818.39000\n",
              "1210     -102373624.57000\n",
              "1310       -2566551.70000\n",
              "1410        -667047.54000\n",
              "2010   -19430149062.26497\n",
              "2011    -1005145801.34002\n",
              "2020    -1110294933.92000\n",
              "2021      -63402340.62000\n",
              "2100        -453983.80000\n",
              "2110      -29995328.38000\n",
              "2200         -14622.48000\n",
              "2210      -90125091.33000\n",
              "2320      -58522431.77000\n",
              "2330    -2266628084.88000\n",
              "2331     -770511079.57001\n",
              "2340      -28312124.07000\n",
              "2341        -239639.22000\n",
              "2370    -9608740950.59873\n",
              "2371    -1914085773.74001\n",
              "2440      -45105809.40000\n",
              "4010      -26525281.10000\n",
              "4011       -2612007.57000\n",
              "4020        -417108.75000\n",
              "4021         -56512.83000\n",
              "4031        -268760.44000\n",
              "4041        -338387.20000\n",
              "4051       -6815299.07000\n",
              "4061          -4042.63000\n",
              "4071      -15819926.30000\n",
              "4090        -255394.23000\n",
              "4100         -15767.22000\n",
              "4110        -853067.41000\n",
              "4200          -3368.87000\n",
              "4210        -955405.12000\n",
              "4500        -724870.45000\n",
              "7010         -22459.16000\n",
              "Name: amount, dtype: float64"
            ]
          },
          "metadata": {}
        },
        {
          "output_type": "display_data",
          "data": {
            "text/plain": [
              "tr_type\n",
              "1010     0.03230\n",
              "1030     0.09109\n",
              "1100     4.02090\n",
              "1110     2.14521\n",
              "1200    20.61781\n",
              "1210     4.01808\n",
              "1410     5.32019\n",
              "2010     0.05873\n",
              "2011     0.03129\n",
              "2020     0.04709\n",
              "2100    14.34118\n",
              "2110     2.61813\n",
              "2200   280.48767\n",
              "2210     0.97192\n",
              "2320     0.01418\n",
              "2330     0.05516\n",
              "2331     0.03813\n",
              "2370     0.06543\n",
              "2371     0.04679\n",
              "2440     0.03447\n",
              "4010     0.05288\n",
              "4011     0.02791\n",
              "4020     0.03943\n",
              "4041     0.00996\n",
              "4051     0.04146\n",
              "4071     0.04668\n",
              "4090     0.03298\n",
              "4100     7.69449\n",
              "4110     2.79205\n",
              "4200    12.98601\n",
              "4210     1.08939\n",
              "4500     0.07281\n",
              "Name: amount, dtype: float64"
            ]
          },
          "metadata": {}
        },
        {
          "output_type": "display_data",
          "data": {
            "text/plain": [
              "tr_type\n",
              "2200   280.48767\n",
              "1200    20.61781\n",
              "2100    14.34118\n",
              "4200    12.98601\n",
              "4100     7.69449\n",
              "1410     5.32019\n",
              "1100     4.02090\n",
              "1210     4.01808\n",
              "4110     2.79205\n",
              "2110     2.61813\n",
              "Name: amount, dtype: float64"
            ]
          },
          "metadata": {}
        },
        {
          "output_type": "display_data",
          "data": {
            "text/html": [
              "<div>\n",
              "<style scoped>\n",
              "    .dataframe tbody tr th:only-of-type {\n",
              "        vertical-align: middle;\n",
              "    }\n",
              "\n",
              "    .dataframe tbody tr th {\n",
              "        vertical-align: top;\n",
              "    }\n",
              "\n",
              "    .dataframe thead th {\n",
              "        text-align: right;\n",
              "    }\n",
              "</style>\n",
              "<table border=\"1\" class=\"dataframe\">\n",
              "  <thead>\n",
              "    <tr style=\"text-align: right;\">\n",
              "      <th></th>\n",
              "      <th>tr_type</th>\n",
              "      <th>tr_description</th>\n",
              "      <th>amount</th>\n",
              "    </tr>\n",
              "  </thead>\n",
              "  <tbody>\n",
              "    <tr>\n",
              "      <th>9</th>\n",
              "      <td>2200</td>\n",
              "      <td>Наличные.  Зарубеж. банк</td>\n",
              "      <td>280.48767</td>\n",
              "    </tr>\n",
              "    <tr>\n",
              "      <th>5</th>\n",
              "      <td>1200</td>\n",
              "      <td>Покупка. Зарубеж. ТУ</td>\n",
              "      <td>20.61781</td>\n",
              "    </tr>\n",
              "    <tr>\n",
              "      <th>7</th>\n",
              "      <td>2100</td>\n",
              "      <td>Наличные.  Россия</td>\n",
              "      <td>14.34118</td>\n",
              "    </tr>\n",
              "    <tr>\n",
              "      <th>2</th>\n",
              "      <td>4200</td>\n",
              "      <td>Плата за получение наличных. Зарубеж.</td>\n",
              "      <td>12.98601</td>\n",
              "    </tr>\n",
              "    <tr>\n",
              "      <th>0</th>\n",
              "      <td>4100</td>\n",
              "      <td>Плата за получение наличных. Россия</td>\n",
              "      <td>7.69449</td>\n",
              "    </tr>\n",
              "    <tr>\n",
              "      <th>3</th>\n",
              "      <td>1410</td>\n",
              "      <td>н/д</td>\n",
              "      <td>5.32019</td>\n",
              "    </tr>\n",
              "    <tr>\n",
              "      <th>4</th>\n",
              "      <td>1100</td>\n",
              "      <td>Покупка. ТУ  Россия</td>\n",
              "      <td>4.02090</td>\n",
              "    </tr>\n",
              "    <tr>\n",
              "      <th>6</th>\n",
              "      <td>1210</td>\n",
              "      <td>Покупка. POS  Зарубеж. ТУ</td>\n",
              "      <td>4.01808</td>\n",
              "    </tr>\n",
              "    <tr>\n",
              "      <th>1</th>\n",
              "      <td>4110</td>\n",
              "      <td>Плата за получение наличных в АТМ. Россия</td>\n",
              "      <td>2.79205</td>\n",
              "    </tr>\n",
              "    <tr>\n",
              "      <th>8</th>\n",
              "      <td>2110</td>\n",
              "      <td>Наличные.   АТМ Россия</td>\n",
              "      <td>2.61813</td>\n",
              "    </tr>\n",
              "  </tbody>\n",
              "</table>\n",
              "</div>"
            ],
            "text/plain": [
              "   tr_type                             tr_description    amount\n",
              "9     2200                   Наличные.  Зарубеж. банк 280.48767\n",
              "5     1200                       Покупка. Зарубеж. ТУ  20.61781\n",
              "7     2100                          Наличные.  Россия  14.34118\n",
              "2     4200      Плата за получение наличных. Зарубеж.  12.98601\n",
              "0     4100        Плата за получение наличных. Россия   7.69449\n",
              "3     1410                                        н/д   5.32019\n",
              "4     1100                        Покупка. ТУ  Россия   4.02090\n",
              "6     1210                  Покупка. POS  Зарубеж. ТУ   4.01808\n",
              "1     4110  Плата за получение наличных в АТМ. Россия   2.79205\n",
              "8     2110                     Наличные.   АТМ Россия   2.61813"
            ]
          },
          "metadata": {}
        }
      ]
    }
  ]
}