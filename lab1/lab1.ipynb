{
  "nbformat": 4,
  "nbformat_minor": 0,
  "metadata": {
    "colab": {
      "name": "Copy of lab1.ipynb",
      "provenance": [],
      "collapsed_sections": []
    },
    "kernelspec": {
      "display_name": "Python 3",
      "language": "python",
      "name": "python3"
    },
    "language_info": {
      "codemirror_mode": {
        "name": "ipython",
        "version": 3
      },
      "file_extension": ".py",
      "mimetype": "text/x-python",
      "name": "python",
      "nbconvert_exporter": "python",
      "pygments_lexer": "ipython3",
      "version": "3.7.4"
    }
  },
  "cells": [
    {
      "cell_type": "markdown",
      "metadata": {
        "id": "BsNwjQDRfmLY"
      },
      "source": [
        "# Задание 1"
      ]
    },
    {
      "cell_type": "markdown",
      "metadata": {
        "id": "wu6r1-s7fmLe"
      },
      "source": [
        "---"
      ]
    },
    {
      "cell_type": "markdown",
      "metadata": {
        "id": "zxRIdPO9gYyX"
      },
      "source": [
        "Напишите программу, которая будет решать систему линейных уравнений вида:\n",
        "\n",
        "\\begin{matrix} a_{11}x+a_{12}y=b_{1}&(1) \\\\ a_{21}x+a_{22}y=b_{2} &(2) \\end{matrix}\n",
        "​\t\n",
        "На вход программа должна принимать 2 строки.\n",
        "\n",
        "Каждая строка содержит 3 действительных числа через пробел: коэффициенты a и b.\n",
        "\n",
        "На выходе программа должна выдавать значения x и y в одну строку через пробел.\n",
        " \n",
        "\n",
        "Примечание 1. Для разделения строки на отдельные элементы используйте функцию split()\n",
        "\n",
        "Примечание 2. В качестве разделителя между целой и дробной частью используйте точку, например 0.2"
      ]
    },
    {
      "cell_type": "code",
      "metadata": {
        "id": "6sxlcLbVlrjl",
        "colab": {
          "base_uri": "https://localhost:8080/"
        },
        "outputId": "1fd89f7c-143f-460f-8da7-de74d5e203f1"
      },
      "source": [
        "import numpy as np\n",
        "\n",
        "def linan(fEquation,sEquation):\n",
        "  a = np.asarray(fEquation.split())\n",
        "  b = np.asarray(sEquation.split())\n",
        "  try:\n",
        "    aFin = np.array( [[a[0], a[1]] , [b[0], b[1]]] , dtype=np.float32 )\n",
        "    bFin = np.array([a[2],b[2]], dtype=np.float32)\n",
        "    x = np.linalg.solve(aFin, bFin)\n",
        "    print(x[0],x[1])\n",
        "  except Exception as ex:\n",
        "    print(\"You've entered wrong equation\")\n",
        "    pass\n",
        "linan(\"1 2 4\",\"1 3 5.5\")\n",
        "\n",
        "# enter you code"
      ],
      "execution_count": null,
      "outputs": [
        {
          "output_type": "stream",
          "name": "stdout",
          "text": [
            "1.0 1.5\n"
          ]
        }
      ]
    },
    {
      "cell_type": "markdown",
      "metadata": {
        "id": "wLoVDMQnfmOv"
      },
      "source": [
        "# Задание 2"
      ]
    },
    {
      "cell_type": "markdown",
      "metadata": {
        "id": "6bmt_YF3fmOw"
      },
      "source": [
        "Напишите функцию `decorate_matrix`, которая получает на вход одно целое число больше единицы. Функция должна возвращать матрицу n на n, у которой на границах стоят единицы, а на всех остальных позициях(если остались позиции не на границах) стоят нули.\n",
        "\n",
        "Нужно сделать без использования  циклов.\n",
        "\n",
        "```\n",
        "# ожидаемый резальтат для аргумента 5\n",
        "array([[1., 1., 1., 1., 1.],\n",
        "[1., 0., 0., 0., 1.],\n",
        "[1., 0., 0., 0., 1.],\n",
        "[1., 0., 0., 0., 1.],\n",
        "[1., 1., 1., 1., 1.]])\n",
        "```\n",
        "\n"
      ]
    },
    {
      "cell_type": "code",
      "metadata": {
        "id": "GaC4NqTUlb2y",
        "colab": {
          "base_uri": "https://localhost:8080/"
        },
        "outputId": "49832024-58c8-4831-91e7-6f5e644e936f"
      },
      "source": [
        "import numpy as np\n",
        "\n",
        "def decorate_matrix(n):\n",
        "  s = (n,n)\n",
        "  d = np.zeros(s)\n",
        "  d[0, :] = 1\n",
        "  d[n - 1, :] = 1\n",
        "  d[:, 0] = 1\n",
        "  d[:, n - 1] = 1\n",
        "\n",
        "  print(d)\n",
        "decorate_matrix(5)"
      ],
      "execution_count": null,
      "outputs": [
        {
          "output_type": "stream",
          "name": "stdout",
          "text": [
            "[[1. 1. 1. 1. 1.]\n",
            " [1. 0. 0. 0. 1.]\n",
            " [1. 0. 0. 0. 1.]\n",
            " [1. 0. 0. 0. 1.]\n",
            " [1. 1. 1. 1. 1.]]\n"
          ]
        }
      ]
    },
    {
      "cell_type": "markdown",
      "metadata": {
        "id": "75sxny1zSCbl"
      },
      "source": [
        "# Задание 3"
      ]
    },
    {
      "cell_type": "markdown",
      "metadata": {
        "id": "2Xq1tBBAS5UJ"
      },
      "source": [
        "1) реализуйте 2 функции:\n",
        "\n",
        "$f(x) = (x+a)^2 - b$ \n",
        "\n",
        "$g(x) = |f(x)|$\n",
        "\n",
        "2) Найдите аргументы, при которых достигается минимум функций $f(x)$ и $g(x)$\n",
        "\n",
        "Пример. \n",
        "Входные значение: $a=3$ и $b=4$\n",
        "\n",
        "Выходные значения:\n",
        "\n",
        "`-3.0 -1.0`"
      ]
    },
    {
      "cell_type": "code",
      "metadata": {
        "colab": {
          "base_uri": "https://localhost:8080/"
        },
        "id": "KS4_nP5Sb1Hj",
        "outputId": "0c3d276d-af97-4ba8-ecff-989ae5e73980"
      },
      "source": [
        "from scipy import optimize\n",
        "import numpy as np\n",
        "def f(x,a,b):\n",
        "  return(((a+x)**2)-b)\n",
        "def f1(x,a,b):\n",
        "  return(abs(((a+x)**2)-b))\n",
        "def minimum_functions(a,b):\n",
        "  print(optimize.minimize(f, x0=0, args=(a,b)).x)\n",
        "  print(optimize.minimize(f1, x0=0, args=(a,b)).x)\n",
        "minimum_functions(3,4)"
      ],
      "execution_count": null,
      "outputs": [
        {
          "output_type": "stream",
          "name": "stdout",
          "text": [
            "[-2.99999998]\n",
            "[-1.00000001]\n"
          ]
        }
      ]
    },
    {
      "cell_type": "markdown",
      "metadata": {
        "id": "efml9GzISC9Q"
      },
      "source": [
        "# Задание 4"
      ]
    },
    {
      "cell_type": "markdown",
      "metadata": {
        "id": "SDZvKcsTVbAW"
      },
      "source": [
        "Постройте графики для функций из предыдущего задания и отметьте другим цветом на графиках точки найденных минимумов."
      ]
    },
    {
      "cell_type": "code",
      "metadata": {
        "colab": {
          "base_uri": "https://localhost:8080/",
          "height": 251
        },
        "id": "XddB2u6rqNCY",
        "outputId": "e9eba41b-9f81-4d09-9cca-86b9cad86d05"
      },
      "source": [
        "from scipy import optimize\n",
        "import numpy as np\n",
        "def f(x,a,b):\n",
        "  return(((a+x)**2)-b)\n",
        "def f1(x,a,b):\n",
        "  return(abs(((a+x)**2)-b))\n",
        "def minimum_functions(a,b):\n",
        "  min1 = optimize.minimize(f, x0=0, args=(a,b)).x\n",
        "  min2 = optimize.minimize(f1, x0=0, args=(a,b)).x\n",
        "  x = np.arange(-10, 10, 0.1)\n",
        "  ax = plt.gca()\n",
        "  ax.spines['top'].set_color('none')\n",
        "  ax.spines['bottom'].set_position('zero')\n",
        "  ax.spines['left'].set_position('zero')\n",
        "  ax.spines['right'].set_color('none')\n",
        "  plot1 = plt.figure(1)\n",
        "  plt.plot(x, f(x,a,b))\n",
        "  plt.scatter(min1,f(min1,a,b),color = 'red', label = 'Min1')\n",
        "  plt.plot(x, f1(x,a,b))\n",
        "  plt.scatter(min2,f1(min2,a,b),color = 'red', label = 'Min2' )\n",
        "  plt.show()\n",
        "minimum_functions(3,4)"
      ],
      "execution_count": null,
      "outputs": [
        {
          "output_type": "display_data",
          "data": {
            "image/png": "[encoded data removed]",
            "text/plain": [
              "<Figure size 432x288 with 1 Axes>"
            ]
          },
          "metadata": {
            "needs_background": "light"
          }
        }
      ]
    },
    {
      "cell_type": "markdown",
      "metadata": {
        "id": "mrby3EfiSDKJ"
      },
      "source": [
        "# Задание 5"
      ]
    },
    {
      "cell_type": "markdown",
      "metadata": {
        "id": "J6AZ8785VkQd"
      },
      "source": [
        "1000 человек бросают монетку. Каждый бросил 10 раз подряд.\n",
        "\n",
        " 1. Какова вероятность того, что хотя бы у одного человека монетка выпала 10 раз подряд той же самой стороной (орлом или решкой)? \n",
        " 2. Какова вероятность того, что хотя бы у одного человека монетка выпала 8 раз подряд той же самой стороной (орлом или решкой)? \n",
        " 3. Какова вероятность того, что ровно у троих человек из 1000 монетка выпала 10 раз подряд той же самой стороной (орлом или решкой)?"
      ]
    },
    {
      "cell_type": "code",
      "metadata": {
        "colab": {
          "base_uri": "https://localhost:8080/"
        },
        "id": "5vdHEsjj0foZ",
        "outputId": "9ba7018d-0c3a-4399-dc3d-5542157bbe9e"
      },
      "source": [
        "import operator as op\n",
        "from functools import reduce\n",
        "\n",
        "def ncr(n, r):\n",
        "    r = min(r, n-r)\n",
        "    numer = reduce(op.mul, range(n, n-r, -1), 1)\n",
        "    denom = reduce(op.mul, range(1, r+1), 1)\n",
        "    return numer // denom  \n",
        "def bernulli(p,k,n):\n",
        "  q=1-p\n",
        "  return ncr(n,k)*(p**k)*(q**(n-k))\n",
        "print(\"First:\")\n",
        "print(1-bernulli(2*(1/2)**10,0,1000))\n",
        "print(\"Second:\")\n",
        "print(1-bernulli(2*(1/2)**(10-8+1),0,1000))\n",
        "print(\"Third:\")\n",
        "print(bernulli(2*(1/2)**10,3,1000))\n",
        "\n"
      ],
      "execution_count": null,
      "outputs": [
        {
          "output_type": "stream",
          "name": "stdout",
          "text": [
            "First:\n",
            "0.858440454732242\n",
            "Second:\n",
            "1.0\n",
            "Third:\n",
            "0.1762873858121736\n"
          ]
        }
      ]
    }
  ]
}