{
  "nbformat": 4,
  "nbformat_minor": 0,
  "metadata": {
    "colab": {
      "name": "Copy of test 7.1 pytorch tasks.ipynb",
      "provenance": [],
      "collapsed_sections": [
        "D2IP_FrKYKAA"
      ]
    },
    "kernelspec": {
      "display_name": "Python 3",
      "language": "python",
      "name": "python3"
    },
    "language_info": {
      "codemirror_mode": {
        "name": "ipython",
        "version": 3
      },
      "file_extension": ".py",
      "mimetype": "text/x-python",
      "name": "python",
      "nbconvert_exporter": "python",
      "pygments_lexer": "ipython3",
      "version": "3.6.5"
    },
    "accelerator": "GPU"
  },
  "cells": [
    {
      "cell_type": "markdown",
      "metadata": {
        "id": "vcnGdgw_YJ8u"
      },
      "source": [
        "# PyTorch. Основы: синтаксис, torch.cuda и torch.autograd\n",
        "\n",
        "## Задание 7.1"
      ]
    },
    {
      "cell_type": "code",
      "metadata": {
        "id": "RtyozNmmYJ89"
      },
      "source": [
        "import torch\n",
        "import matplotlib.pyplot as plt"
      ],
      "execution_count": null,
      "outputs": []
    },
    {
      "cell_type": "markdown",
      "metadata": {
        "id": "ny4-Qi2wYJ-6"
      },
      "source": [
        "### Задача 1"
      ]
    },
    {
      "cell_type": "markdown",
      "metadata": {
        "id": "IWxlFq0bYJ-_"
      },
      "source": [
        "1). Создайте два вещественных тензора: `a` размером (3, 4) и `b` размером (12,)   \n",
        "2). Создайте тензор `c`, являющийся тензором `b`, но размера (2, 2, 3)  \n",
        "3). Выведите первый столбец матрицы `a` с помощью индексации"
      ]
    },
    {
      "cell_type": "code",
      "metadata": {
        "id": "3oxZuk3yYJ_A",
        "colab": {
          "base_uri": "https://localhost:8080/",
          "height": 220
        },
        "outputId": "ae1d6c09-35c7-4f3c-b66e-c785a614c728"
      },
      "source": [
        "#1\n",
        "a =torch.FloatTensor(3,4)\n",
        "display(a)\n",
        "b = torch.FloatTensor(12)\n",
        "display(b)\n",
        "#2\n",
        "c = b.reshape(2,2,3)\n",
        "display(c)\n",
        "#3\n",
        "display(a[0])\n"
      ],
      "execution_count": null,
      "outputs": [
        {
          "output_type": "display_data",
          "data": {
            "text/plain": [
              "tensor([[1.6002e+04, 3.0837e-41, 3.3631e-44, 0.0000e+00],\n",
              "        [       nan, 0.0000e+00, 4.4721e+21, 1.5956e+25],\n",
              "        [4.7399e+16, 4.9115e-14, 0.0000e+00, 0.0000e+00]])"
            ]
          },
          "metadata": {}
        },
        {
          "output_type": "display_data",
          "data": {
            "text/plain": [
              "tensor([1.6003e+04, 3.0837e-41, 3.3631e-44, 0.0000e+00,        nan, 0.0000e+00,\n",
              "        4.4721e+21, 1.5956e+25, 4.7399e+16, 4.9115e-14, 0.0000e+00, 0.0000e+00])"
            ]
          },
          "metadata": {}
        },
        {
          "output_type": "display_data",
          "data": {
            "text/plain": [
              "tensor([[[1.6003e+04, 3.0837e-41, 3.3631e-44],\n",
              "         [0.0000e+00,        nan, 0.0000e+00]],\n",
              "\n",
              "        [[4.4721e+21, 1.5956e+25, 4.7399e+16],\n",
              "         [4.9115e-14, 0.0000e+00, 0.0000e+00]]])"
            ]
          },
          "metadata": {}
        },
        {
          "output_type": "display_data",
          "data": {
            "text/plain": [
              "tensor([1.6002e+04, 3.0837e-41, 3.3631e-44, 0.0000e+00])"
            ]
          },
          "metadata": {}
        }
      ]
    },
    {
      "cell_type": "markdown",
      "metadata": {
        "id": "D2IP_FrKYKAA"
      },
      "source": [
        "### Задача 2"
      ]
    },
    {
      "cell_type": "markdown",
      "metadata": {
        "id": "tBZFbSYQYKAA"
      },
      "source": [
        "1). Создайте два вещественных тензора: `a` размером (5, 2) и `b` размером (1,10)   \n",
        "2). Создайте тензор `c`, являющийся тензором `b`, но размера (5, 2)  \n",
        "3). Произведите все арифметические операции с тензорами `a` и `c`"
      ]
    },
    {
      "cell_type": "code",
      "metadata": {
        "id": "hzs2bH3GYKAB",
        "colab": {
          "base_uri": "https://localhost:8080/",
          "height": 515
        },
        "outputId": "99183db6-5a5a-49a6-82ed-fe77624024cb"
      },
      "source": [
        "# Ваш код здесь\n",
        "a =torch.FloatTensor(5,2)\n",
        "display(a)\n",
        "b = torch.FloatTensor(1,10)\n",
        "display(b)\n",
        "c = b.reshape(5,2)\n",
        "display(torch.add(a,c))\n",
        "display(torch.sub(a,c))\n",
        "display(torch.div(a,c))\n",
        "display(torch.mul(a,c))"
      ],
      "execution_count": null,
      "outputs": [
        {
          "output_type": "display_data",
          "data": {
            "text/plain": [
              "tensor([[1.6007e+04, 3.0837e-41],\n",
              "        [8.9683e-44, 2.1896e+21],\n",
              "        [1.8574e-03, 2.7112e-19],\n",
              "        [1.9773e-32, 3.0837e-41],\n",
              "        [9.2008e+03, 3.0837e-41]])"
            ]
          },
          "metadata": {}
        },
        {
          "output_type": "display_data",
          "data": {
            "text/plain": [
              "tensor([[1.6008e+04, 3.0837e-41, 3.6013e-43, 2.1896e+21, 1.8574e-03, 2.7112e-19,\n",
              "         1.9773e-32, 0.0000e+00, 0.0000e+00, 0.0000e+00]])"
            ]
          },
          "metadata": {}
        },
        {
          "output_type": "display_data",
          "data": {
            "text/plain": [
              "tensor([[3.2015e+04, 6.1674e-41],\n",
              "        [4.4982e-43, 4.3792e+21],\n",
              "        [3.7147e-03, 5.4223e-19],\n",
              "        [3.9546e-32, 3.0837e-41],\n",
              "        [9.2008e+03, 3.0837e-41]])"
            ]
          },
          "metadata": {}
        },
        {
          "output_type": "display_data",
          "data": {
            "text/plain": [
              "tensor([[-2.5000e-01,  0.0000e+00],\n",
              "        [-2.7045e-43,  0.0000e+00],\n",
              "        [ 0.0000e+00,  0.0000e+00],\n",
              "        [ 0.0000e+00,  3.0837e-41],\n",
              "        [ 9.2008e+03,  3.0837e-41]])"
            ]
          },
          "metadata": {}
        },
        {
          "output_type": "display_data",
          "data": {
            "text/plain": [
              "tensor([[1.0000, 1.0000],\n",
              "        [0.2490, 1.0000],\n",
              "        [1.0000, 1.0000],\n",
              "        [1.0000,    inf],\n",
              "        [   inf,    inf]])"
            ]
          },
          "metadata": {}
        },
        {
          "output_type": "display_data",
          "data": {
            "text/plain": [
              "tensor([[2.5624e+08, 0.0000e+00],\n",
              "        [0.0000e+00,        inf],\n",
              "        [3.4498e-06, 7.3504e-38],\n",
              "        [0.0000e+00, 0.0000e+00],\n",
              "        [0.0000e+00, 0.0000e+00]])"
            ]
          },
          "metadata": {}
        }
      ]
    },
    {
      "cell_type": "markdown",
      "metadata": {
        "id": "rIaroFO6YKBT"
      },
      "source": [
        "### Задача 3"
      ]
    },
    {
      "cell_type": "markdown",
      "metadata": {
        "id": "GfLHVvKvYKBT"
      },
      "source": [
        "1). Создайте тензор *целых чисел* `images` размерности (100, 200, 200, 3) (можно интерпретировать это как 100 картинок размера 200х200 с тремя цветовыми каналами, то есть 100 цветных изображений 200х200). Заполните его нулями  \n",
        "\n",
        "2). Сделайте так, чтобы у $i$-ой по порядку картинки была нарисована белая полоса толщиной два пикселя в строках, которые соответствуют номеру картинки. Например, у 3-ей по порядку картинки белая полоска будет занимать 6 и 7 строки, у 99 - 198 и 199. Сделать белую строку можно, записав в ячейки тензора число 255 (по всем трём каналам). Выведите несколько примеров с помощью `pylot`  \n",
        "\n",
        "3). Посчитайте среднее тензора `images` по 1-ой оси (по сути - средняя картинка), умножьте полученный тензор на 70. Нарисуйте с помощью `pyplot`, должна получиться серая картинка (при взятии среднего нужно привести тензор к float с помощью `.float()`, при отрисовке обратно к int с помощью `.int()`)"
      ]
    },
    {
      "cell_type": "code",
      "metadata": {
        "id": "pZVGHEQQYKBU",
        "colab": {
          "base_uri": "https://localhost:8080/",
          "height": 287
        },
        "outputId": "d77034be-e714-4eb6-b927-58f40fd39897"
      },
      "source": [
        "# Ваш код здесь\n",
        "import matplotlib.pyplot as plt\n",
        "\n",
        "images = torch.LongTensor(100,200,200,3)\n",
        "images.fill_(0)\n",
        "      \n",
        "plt.imshow(images[0])\n",
        "for i in range(100):\n",
        "  for x in range(200):\n",
        "      if ((x == 2*i)):\n",
        "        images[i][x].fill_(255)\n",
        "        images[i][x+1].fill_(255)\n",
        "plt.imshow(images[50])\n"
      ],
      "execution_count": null,
      "outputs": [
        {
          "output_type": "execute_result",
          "data": {
            "text/plain": [
              "<matplotlib.image.AxesImage at 0x7fdf5b1ea150>"
            ]
          },
          "metadata": {},
          "execution_count": 18
        },
        {
          "output_type": "display_data",
          "data": {
            "image/png": "[encoded data removed]",
            "text/plain": [
              "<Figure size 432x288 with 1 Axes>"
            ]
          },
          "metadata": {
            "needs_background": "light"
          }
        }
      ]
    },
    {
      "cell_type": "code",
      "source": [
        "\n",
        "plt.imshow(images[2])"
      ],
      "metadata": {
        "colab": {
          "base_uri": "https://localhost:8080/",
          "height": 287
        },
        "id": "HkTh9SCrHbHc",
        "outputId": "612b0803-1133-4713-8caa-4665118e3728"
      },
      "execution_count": null,
      "outputs": [
        {
          "output_type": "execute_result",
          "data": {
            "text/plain": [
              "<matplotlib.image.AxesImage at 0x7f66d22b7110>"
            ]
          },
          "metadata": {},
          "execution_count": 53
        },
        {
          "output_type": "display_data",
          "data": {
            "image/png": "[encoded data removed]",
            "text/plain": [
              "<Figure size 432x288 with 1 Axes>"
            ]
          },
          "metadata": {
            "needs_background": "light"
          }
        }
      ]
    },
    {
      "cell_type": "code",
      "source": [
        "\n",
        "plt.imshow(images[98])"
      ],
      "metadata": {
        "colab": {
          "base_uri": "https://localhost:8080/",
          "height": 287
        },
        "id": "d5pjAVq4HbiH",
        "outputId": "4950c1fb-a44f-46e6-9b61-0f5a292e677d"
      },
      "execution_count": null,
      "outputs": [
        {
          "output_type": "execute_result",
          "data": {
            "text/plain": [
              "<matplotlib.image.AxesImage at 0x7f66d2293d50>"
            ]
          },
          "metadata": {},
          "execution_count": 54
        },
        {
          "output_type": "display_data",
          "data": {
            "image/png": "[encoded data removed]",
            "text/plain": [
              "<Figure size 432x288 with 1 Axes>"
            ]
          },
          "metadata": {
            "needs_background": "light"
          }
        }
      ]
    },
    {
      "cell_type": "code",
      "source": [
        "plt.imshow((images.float().mean(0)*70).int())"
      ],
      "metadata": {
        "colab": {
          "base_uri": "https://localhost:8080/",
          "height": 287
        },
        "id": "w99D0HKSMrMt",
        "outputId": "41f47d6a-48ae-460a-ad8b-eb618cdb9a56"
      },
      "execution_count": null,
      "outputs": [
        {
          "output_type": "execute_result",
          "data": {
            "text/plain": [
              "<matplotlib.image.AxesImage at 0x7fdf5a63c710>"
            ]
          },
          "metadata": {},
          "execution_count": 31
        },
        {
          "output_type": "display_data",
          "data": {
            "image/png": "[encoded data removed]",
            "text/plain": [
              "<Figure size 432x288 with 1 Axes>"
            ]
          },
          "metadata": {
            "needs_background": "light"
          }
        }
      ]
    },
    {
      "cell_type": "markdown",
      "metadata": {
        "id": "oQnhq5ZdYKCu"
      },
      "source": [
        "### Задача 4"
      ]
    },
    {
      "cell_type": "markdown",
      "metadata": {
        "id": "UB95BhgTYKCu"
      },
      "source": [
        "- В Colab нажмите в меню сверху: `Runtime` -> `Change Runtime Type` -> `GPU`, где изначально стоит `None` (`Среда выполнение` - `Сменить среду выполнения`)\n",
        "- Объявите тензор `a` размера (2, 3, 4) и тензор `b` размера (1, 8, 3) на GPU, иницилизируйте их случайно равномерно (`.uniform_()`)\n",
        "- Затем измените форму тензора `b`, чтобы она совпадала с формой тензора `a`, получите тензор `c`  \n",
        "- Переместите `c` на CPU, переместите `a` на CPU  \n",
        "- Оберните их в `Variable()`\n",
        "- Объявите тензор `L = torch.mean((c - a) `**` 2)` и посчитайте градиент `L` по `c` ( то есть $\\frac{\\partial{L}}{\\partial{c}})$\n",
        "- Выведите градиент `L` по `c`"
      ]
    },
    {
      "cell_type": "code",
      "metadata": {
        "id": "WESOm5TCYKCv"
      },
      "source": [
        "# Ваш код здесь\n",
        "device = torch.device(\"cuda\")\n",
        "a = torch.FloatTensor(2,3,4).uniform_()\n",
        "a = a.cuda()\n",
        "b = torch.FloatTensor(1,8,3).uniform_()\n",
        "b = b.cuda()\n",
        "c = b.reshape(2,3,4)\n",
        "a = a.cpu()\n",
        "c = c.cpu()"
      ],
      "execution_count": null,
      "outputs": []
    },
    {
      "cell_type": "code",
      "source": [
        "from torch.autograd import Variable"
      ],
      "metadata": {
        "id": "sn9KrSSzLIsP"
      },
      "execution_count": null,
      "outputs": []
    },
    {
      "cell_type": "code",
      "source": [
        "a = Variable(a, requires_grad=False)\n",
        "c = Variable(c, requires_grad=True)\n",
        "L = torch.mean((c - a)**2)\n",
        "L.backward()"
      ],
      "metadata": {
        "id": "H1ywO2ZDLJk5"
      },
      "execution_count": null,
      "outputs": []
    },
    {
      "cell_type": "code",
      "source": [
        "display(c.grad)"
      ],
      "metadata": {
        "colab": {
          "base_uri": "https://localhost:8080/",
          "height": 146
        },
        "id": "z7elKoTBMY3Q",
        "outputId": "ec0d2472-9eec-46f0-aa36-10ae8e67c32c"
      },
      "execution_count": null,
      "outputs": [
        {
          "output_type": "display_data",
          "data": {
            "text/plain": [
              "tensor([[[ 0.0670, -0.0720, -0.0710,  0.0466],\n",
              "         [ 0.0261,  0.0020, -0.0043, -0.0298],\n",
              "         [ 0.0387,  0.0208, -0.0142, -0.0129]],\n",
              "\n",
              "        [[-0.0387,  0.0332,  0.0409,  0.0364],\n",
              "         [-0.0097, -0.0247,  0.0070, -0.0522],\n",
              "         [-0.0259,  0.0412,  0.0304, -0.0026]]])"
            ]
          },
          "metadata": {}
        }
      ]
    }
  ]
}